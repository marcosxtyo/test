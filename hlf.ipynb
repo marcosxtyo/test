{
 "cells": [
  {
   "cell_type": "code",
   "execution_count": 1,
   "metadata": {},
   "outputs": [],
   "source": [
    "import numpy as np\n",
    "import random"
   ]
  },
  {
   "cell_type": "markdown",
   "metadata": {},
   "source": [
    "# Posicionar barcos de manera aleatoria\n",
    "\n",
    "Función que pone barcos de manera aleatoria sobre un tablero de 10x10"
   ]
  },
  {
   "cell_type": "code",
   "execution_count": 78,
   "metadata": {},
   "outputs": [],
   "source": [
    "tablero = np.full((10,10), \" \")\n",
    "#print(tablero)\n",
    "def resettablero():\n",
    "    tablero = np.full((10,10), \" \")\n",
    "\n",
    "def genbarcos():\n",
    "    try:\n",
    "        global lbarco\n",
    "        lbarco = int(input(\"Introduce la longitud del barco (entre 1 y 4 casillas):\"))\n",
    "    except:\n",
    "        print(\"Introduce un número del 1 al 4.\")\n",
    "        return genbarcos()\n",
    "\n",
    "# colocar barco de 4 casilas de forma aleatoria\n",
    "# cordenadas iniciales\n",
    "def coords():\n",
    "    global x\n",
    "    global y\n",
    "    global contador\n",
    "    contador = [] # vamosa crear una lista que almacene las 4 orientaciones futuras por cada coordenada\n",
    "    x = random.randint(0, 9)\n",
    "    y = random.randint(0, 9)\n",
    "    #print(x, y)\n",
    "    if tablero[x:x+1,y:y+1] == \"O\" or tablero[x:x+1,y:y+1] == \"X\":\n",
    "        return coords()\n",
    "\n",
    "#orientación del barco, vamos a definir 4 funciones\n",
    "\n",
    "def norte():\n",
    "    if x < lbarco-1: # si la longitud del barco es mayor que lo que resta de tablero por arriba, que nos de otra\n",
    "        return orien()\n",
    "    for i in range(x-lbarco,x+2):\n",
    "        for j in range(y-1,y+2): #buscamos alrededor de toda la zona del barco para comprobar que no haya otros\n",
    "            if tablero[i:i+1,j:j+1].size == 0: #si detecta una casilla fuera del borde nos da un array vacío, lo que no cuenta como barco\n",
    "                continue\n",
    "            if tablero[i:i+1,j:j+1] == \"O\" or tablero[i:i+1,j:j+1] == \"X\": # si detecta barco o sale del tablero que empiece de nuevo\n",
    "                return orien()\n",
    "    tablero[x-lbarco+1:x+1,y:y+1] = \"O\" # subimos posiciones en la columna igual a la longitud del barco\n",
    "\n",
    "def sur():\n",
    "    if x > 10-lbarco: # si la longitud del barco es mayor que lo que resta de tablero por abajo, que nos de otra\n",
    "        return orien()\n",
    "    for i in range(x-1,x+lbarco+1):\n",
    "        for j in range(y-1,y+2):\n",
    "            if tablero[i:i+1,j:j+1].size == 0:\n",
    "                continue\n",
    "            if tablero[i:i+1,j:j+1] == \"O\" or tablero[i:i+1,j:j+1] == \"X\": # si detecta barco o sale del tablero que empiece de nuevo\n",
    "                return orien()\n",
    "    tablero[x:x+lbarco,y:y+1] = \"O\" # bajamos posiciones en la columna igual a la longitud del barco\n",
    "\n",
    "def este():\n",
    "    if y > 10-lbarco: # si la longitud del barco es mayor que lo que resta de tablero por la derecha, que nos de otra\n",
    "        return orien()\n",
    "    for j in range(y-1,y+lbarco+1):\n",
    "        for i in range(x-1,x+2):\n",
    "            if tablero[i:i+1,j:j+1].size == 0:\n",
    "                continue\n",
    "            if tablero[i:i+1,j:j+1] == \"O\" or tablero[i:i+1,j:j+1] == \"X\": # si detecta barco o sale del tablero que empiece de nuevo\n",
    "                return orien()\n",
    "    tablero[x:x+1,y:y+lbarco] = \"O\" # lbarco posiciones a la derecha\n",
    "\n",
    "def oeste():\n",
    "    if y < lbarco-1: # si la longitud del barco es mayor que lo que resta de tablero por la izquierda, que nos de otra\n",
    "        return orien()\n",
    "    for j in range(y-lbarco,y+2):\n",
    "        for i in range(x-1,x+2):\n",
    "            if tablero[i:i+1,j:j+1].size == 0:\n",
    "                continue\n",
    "            if tablero[i:i+1,j:j+1] == \"O\" or tablero[i:i+1,j:j+1] == \"X\": # si detecta barco o sale del tablero que empiece de nuevo\n",
    "                return orien()\n",
    "    tablero[x:x+1,y-lbarco+1:y+1] = \"O\" # 4 posiciones a la izquierda\n",
    "\n",
    "def orien():\n",
    "    if np.count_nonzero(tablero == 'O') > 60: #para que no entre en un bucle infinito si hay poco sitio y no encuentra\n",
    "        return print(\"Hay demasiados barcos ya.\")\n",
    "    \n",
    "    if len(contador) == 4: # si todas las coordenadas han sido almacenadas es porque esa coordenada no sirve, que nos de otra\n",
    "        #print(\"Estas coordenadas no sirven.\")\n",
    "        coords()\n",
    "        return orien()\n",
    "    \n",
    "    # orientación NSEO -> 1234\n",
    "    ori = random.randint(1,4)\n",
    "\n",
    "    if ori in contador: # si la orientación ha sido almacenada en la lista es que ya se ha probado con ella\n",
    "        return orien()\n",
    "    contador.append(ori) # metemos la orientación una vez hemos comprobado que no está\n",
    "\n",
    "    # poner barco en la orientación que salga\n",
    "    try:\n",
    "        if ori == 1: # norte\n",
    "            norte()\n",
    "\n",
    "        elif ori == 2: # sur\n",
    "            sur()\n",
    "\n",
    "        elif ori == 3: # este\n",
    "            este()\n",
    "\n",
    "        elif ori == 4: # oeste\n",
    "            oeste()\n",
    "    except RecursionError: # para que no se quede dando vueltas sin parar\n",
    "        return print(\"No encuentra sitio.\")\n",
    "\n",
    "def barco():\n",
    "    genbarcos()\n",
    "    coords()\n",
    "    orien()\n",
    "    return print(tablero)"
   ]
  },
  {
   "cell_type": "code",
   "execution_count": 106,
   "metadata": {},
   "outputs": [
    {
     "name": "stdout",
     "output_type": "stream",
     "text": [
      "No encuentra sitio.\n",
      "[[' ' ' ' ' ' ' ' ' ' ' ' 'O' 'O' 'O' 'O']\n",
      " [' ' 'O' ' ' ' ' 'O' ' ' ' ' ' ' ' ' ' ']\n",
      " [' ' 'O' ' ' ' ' 'O' ' ' 'O' 'O' 'O' 'O']\n",
      " [' ' 'O' ' ' ' ' 'O' ' ' ' ' ' ' ' ' ' ']\n",
      " [' ' 'O' ' ' ' ' 'O' ' ' 'O' 'O' 'O' 'O']\n",
      " [' ' ' ' ' ' ' ' ' ' ' ' ' ' ' ' ' ' ' ']\n",
      " ['O' ' ' 'O' 'O' 'O' 'O' ' ' 'O' ' ' 'O']\n",
      " ['O' ' ' ' ' ' ' ' ' ' ' ' ' ' ' ' ' 'O']\n",
      " ['O' ' ' ' ' 'O' 'O' 'O' 'O' ' ' ' ' 'O']\n",
      " ['O' ' ' ' ' ' ' ' ' ' ' ' ' ' ' ' ' 'O']]\n"
     ]
    }
   ],
   "source": [
    "barco()"
   ]
  },
  {
   "cell_type": "code",
   "execution_count": null,
   "metadata": {},
   "outputs": [],
   "source": []
  }
 ],
 "metadata": {
  "kernelspec": {
   "display_name": "Python 3.7.4 64-bit",
   "language": "python",
   "name": "python3"
  },
  "language_info": {
   "codemirror_mode": {
    "name": "ipython",
    "version": 3
   },
   "file_extension": ".py",
   "mimetype": "text/x-python",
   "name": "python",
   "nbconvert_exporter": "python",
   "pygments_lexer": "ipython3",
   "version": "3.7.4"
  },
  "orig_nbformat": 4,
  "vscode": {
   "interpreter": {
    "hash": "ce38e80e5198e1a528032d773ef998b5a6815c06ae2381a5a6ff105db93cfe61"
   }
  }
 },
 "nbformat": 4,
 "nbformat_minor": 2
}
